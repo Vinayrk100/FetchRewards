{
 "cells": [
  {
   "cell_type": "code",
   "execution_count": 1,
   "metadata": {},
   "outputs": [],
   "source": [
    "%matplotlib inline \n",
    "import matplotlib.pyplot as plt  # Library for visualisation\n",
    "import numpy as np               # Numeric library for calculations\n",
    "import pandas as pd              # Library for data analysis\n",
    "from scipy import stats          # Library for advanced scientific calculations\n",
    "import seaborn as sns            # Library for statistical visualization\n",
    "import re"
   ]
  },
  {
   "cell_type": "code",
   "execution_count": 2,
   "metadata": {},
   "outputs": [],
   "source": [
    "## reading the dataset\n",
    "df_receipts = pd.read_excel(\"receipts.xlsx\")\n",
    "df_users = pd.read_excel(\"users.xlsx\")\n",
    "df_brands = pd.read_excel('brands.xlsx')"
   ]
  },
  {
   "cell_type": "code",
   "execution_count": 3,
   "metadata": {},
   "outputs": [
    {
     "data": {
      "text/html": [
       "<div>\n",
       "<style scoped>\n",
       "    .dataframe tbody tr th:only-of-type {\n",
       "        vertical-align: middle;\n",
       "    }\n",
       "\n",
       "    .dataframe tbody tr th {\n",
       "        vertical-align: top;\n",
       "    }\n",
       "\n",
       "    .dataframe thead th {\n",
       "        text-align: right;\n",
       "    }\n",
       "</style>\n",
       "<table border=\"1\" class=\"dataframe\">\n",
       "  <thead>\n",
       "    <tr style=\"text-align: right;\">\n",
       "      <th></th>\n",
       "      <th>_id</th>\n",
       "      <th>active</th>\n",
       "      <th>createdDate</th>\n",
       "      <th>lastLogin</th>\n",
       "      <th>role</th>\n",
       "      <th>signUpSource</th>\n",
       "      <th>state</th>\n",
       "    </tr>\n",
       "  </thead>\n",
       "  <tbody>\n",
       "    <tr>\n",
       "      <th>0</th>\n",
       "      <td>$oid:5ff1e194b6a9d73a3a9f1052</td>\n",
       "      <td>1.0</td>\n",
       "      <td>$date:1609687444800</td>\n",
       "      <td>$date:1609687537858</td>\n",
       "      <td>consumer</td>\n",
       "      <td>Email</td>\n",
       "      <td>WI</td>\n",
       "    </tr>\n",
       "    <tr>\n",
       "      <th>1</th>\n",
       "      <td>$oid:5ff1e194b6a9d73a3a9f1052</td>\n",
       "      <td>1.0</td>\n",
       "      <td>$date:1609687444800</td>\n",
       "      <td>$date:1609687537858</td>\n",
       "      <td>consumer</td>\n",
       "      <td>Email</td>\n",
       "      <td>WI</td>\n",
       "    </tr>\n",
       "    <tr>\n",
       "      <th>2</th>\n",
       "      <td>$oid:5ff1e194b6a9d73a3a9f1052</td>\n",
       "      <td>1.0</td>\n",
       "      <td>$date:1609687444800</td>\n",
       "      <td>$date:1609687537858</td>\n",
       "      <td>consumer</td>\n",
       "      <td>Email</td>\n",
       "      <td>WI</td>\n",
       "    </tr>\n",
       "    <tr>\n",
       "      <th>3</th>\n",
       "      <td>$oid:5ff1e1eacfcf6c399c274ae6</td>\n",
       "      <td>1.0</td>\n",
       "      <td>$date:1609687530554</td>\n",
       "      <td>$date:1609687530597</td>\n",
       "      <td>consumer</td>\n",
       "      <td>Email</td>\n",
       "      <td>WI</td>\n",
       "    </tr>\n",
       "    <tr>\n",
       "      <th>4</th>\n",
       "      <td>$oid:5ff1e194b6a9d73a3a9f1052</td>\n",
       "      <td>1.0</td>\n",
       "      <td>$date:1609687444800</td>\n",
       "      <td>$date:1609687537858</td>\n",
       "      <td>consumer</td>\n",
       "      <td>Email</td>\n",
       "      <td>WI</td>\n",
       "    </tr>\n",
       "  </tbody>\n",
       "</table>\n",
       "</div>"
      ],
      "text/plain": [
       "                             _id  active          createdDate  \\\n",
       "0  $oid:5ff1e194b6a9d73a3a9f1052     1.0  $date:1609687444800   \n",
       "1  $oid:5ff1e194b6a9d73a3a9f1052     1.0  $date:1609687444800   \n",
       "2  $oid:5ff1e194b6a9d73a3a9f1052     1.0  $date:1609687444800   \n",
       "3  $oid:5ff1e1eacfcf6c399c274ae6     1.0  $date:1609687530554   \n",
       "4  $oid:5ff1e194b6a9d73a3a9f1052     1.0  $date:1609687444800   \n",
       "\n",
       "             lastLogin      role signUpSource state  \n",
       "0  $date:1609687537858  consumer        Email    WI  \n",
       "1  $date:1609687537858  consumer        Email    WI  \n",
       "2  $date:1609687537858  consumer        Email    WI  \n",
       "3  $date:1609687530597  consumer        Email    WI  \n",
       "4  $date:1609687537858  consumer        Email    WI  "
      ]
     },
     "execution_count": 3,
     "metadata": {},
     "output_type": "execute_result"
    }
   ],
   "source": [
    "df_users.head()"
   ]
  },
  {
   "cell_type": "code",
   "execution_count": 4,
   "metadata": {},
   "outputs": [
    {
     "data": {
      "text/plain": [
       "(495, 7)"
      ]
     },
     "execution_count": 4,
     "metadata": {},
     "output_type": "execute_result"
    }
   ],
   "source": [
    "df_users.shape"
   ]
  },
  {
   "cell_type": "code",
   "execution_count": 5,
   "metadata": {},
   "outputs": [
    {
     "data": {
      "text/plain": [
       "_id              0\n",
       "active           1\n",
       "createdDate      0\n",
       "lastLogin       62\n",
       "role             0\n",
       "signUpSource    48\n",
       "state           56\n",
       "dtype: int64"
      ]
     },
     "execution_count": 5,
     "metadata": {},
     "output_type": "execute_result"
    }
   ],
   "source": [
    "##Checking for nulls\n",
    "df_users.isnull().sum()"
   ]
  },
  {
   "cell_type": "code",
   "execution_count": 6,
   "metadata": {},
   "outputs": [
    {
     "name": "stdout",
     "output_type": "stream",
     "text": [
      "active : 0.20202020202020202\n",
      "lastLogin : 12.525252525252526\n",
      "signUpSource : 9.696969696969697\n",
      "state : 11.313131313131313\n"
     ]
    }
   ],
   "source": [
    "##percentage of nulls\n",
    "null_percentage = df_users.isnull().mean()\n",
    "for key, value in null_percentage.items():\n",
    "    if value > 0:\n",
    "        print(key, ':', value*100)"
   ]
  },
  {
   "cell_type": "code",
   "execution_count": 7,
   "metadata": {},
   "outputs": [
    {
     "data": {
      "text/plain": [
       "283"
      ]
     },
     "execution_count": 7,
     "metadata": {},
     "output_type": "execute_result"
    }
   ],
   "source": [
    "##checking for duplicates in users dataset\n",
    "df_users.duplicated().sum()"
   ]
  },
  {
   "cell_type": "code",
   "execution_count": 11,
   "metadata": {},
   "outputs": [
    {
     "data": {
      "text/plain": [
       "57.17171717171718"
      ]
     },
     "execution_count": 11,
     "metadata": {},
     "output_type": "execute_result"
    }
   ],
   "source": [
    "##Percentage of duplicates\n",
    "df_users.duplicated().sum()/df_users.shape[0]*100"
   ]
  },
  {
   "cell_type": "markdown",
   "metadata": {},
   "source": [
    "Data Quality issues in User\n",
    "1. Out of 495 records, 283 records are duplicated i,e. 57.17% of the records in Users dataset are duplicates\n",
    "2. There are 4 columns having null values. Since the percentage of null values are small, they can be ignored.\n"
   ]
  },
  {
   "cell_type": "code",
   "execution_count": 13,
   "metadata": {},
   "outputs": [
    {
     "data": {
      "text/html": [
       "<div>\n",
       "<style scoped>\n",
       "    .dataframe tbody tr th:only-of-type {\n",
       "        vertical-align: middle;\n",
       "    }\n",
       "\n",
       "    .dataframe tbody tr th {\n",
       "        vertical-align: top;\n",
       "    }\n",
       "\n",
       "    .dataframe thead th {\n",
       "        text-align: right;\n",
       "    }\n",
       "</style>\n",
       "<table border=\"1\" class=\"dataframe\">\n",
       "  <thead>\n",
       "    <tr style=\"text-align: right;\">\n",
       "      <th></th>\n",
       "      <th>_id</th>\n",
       "      <th>barcode</th>\n",
       "      <th>category</th>\n",
       "      <th>categoryCode</th>\n",
       "      <th>cpg</th>\n",
       "      <th>name</th>\n",
       "      <th>topBrand</th>\n",
       "      <th>brandCode</th>\n",
       "    </tr>\n",
       "  </thead>\n",
       "  <tbody>\n",
       "    <tr>\n",
       "      <th>0</th>\n",
       "      <td>$oid:601ac115be37ce2ead437551</td>\n",
       "      <td>511111019862</td>\n",
       "      <td>Baking</td>\n",
       "      <td>BAKING</td>\n",
       "      <td>$id:$oid:601ac114be37ce2ead437550|$ref:Cogs</td>\n",
       "      <td>test brand @1612366101024</td>\n",
       "      <td>NaN</td>\n",
       "      <td>NaN</td>\n",
       "    </tr>\n",
       "    <tr>\n",
       "      <th>1</th>\n",
       "      <td>$oid:601c5460be37ce2ead43755f</td>\n",
       "      <td>511111519928</td>\n",
       "      <td>Beverages</td>\n",
       "      <td>BEVERAGES</td>\n",
       "      <td>$id:$oid:5332f5fbe4b03c9a25efd0ba|$ref:Cogs</td>\n",
       "      <td>Starbucks</td>\n",
       "      <td>NaN</td>\n",
       "      <td>STARBUCKS</td>\n",
       "    </tr>\n",
       "    <tr>\n",
       "      <th>2</th>\n",
       "      <td>$oid:601ac142be37ce2ead43755d</td>\n",
       "      <td>511111819905</td>\n",
       "      <td>Baking</td>\n",
       "      <td>BAKING</td>\n",
       "      <td>$id:$oid:601ac142be37ce2ead437559|$ref:Cogs</td>\n",
       "      <td>test brand @1612366146176</td>\n",
       "      <td>NaN</td>\n",
       "      <td>TEST BRANDCODE @1612366146176</td>\n",
       "    </tr>\n",
       "    <tr>\n",
       "      <th>3</th>\n",
       "      <td>$oid:601ac142be37ce2ead43755a</td>\n",
       "      <td>511111519874</td>\n",
       "      <td>Baking</td>\n",
       "      <td>BAKING</td>\n",
       "      <td>$id:$oid:601ac142be37ce2ead437559|$ref:Cogs</td>\n",
       "      <td>test brand @1612366146051</td>\n",
       "      <td>NaN</td>\n",
       "      <td>TEST BRANDCODE @1612366146051</td>\n",
       "    </tr>\n",
       "    <tr>\n",
       "      <th>4</th>\n",
       "      <td>$oid:601ac142be37ce2ead43755e</td>\n",
       "      <td>511111319917</td>\n",
       "      <td>Candy &amp; Sweets</td>\n",
       "      <td>CANDY_AND_SWEETS</td>\n",
       "      <td>$id:$oid:5332fa12e4b03c9a25efd1e7|$ref:Cogs</td>\n",
       "      <td>test brand @1612366146827</td>\n",
       "      <td>NaN</td>\n",
       "      <td>TEST BRANDCODE @1612366146827</td>\n",
       "    </tr>\n",
       "  </tbody>\n",
       "</table>\n",
       "</div>"
      ],
      "text/plain": [
       "                             _id       barcode        category  \\\n",
       "0  $oid:601ac115be37ce2ead437551  511111019862          Baking   \n",
       "1  $oid:601c5460be37ce2ead43755f  511111519928       Beverages   \n",
       "2  $oid:601ac142be37ce2ead43755d  511111819905          Baking   \n",
       "3  $oid:601ac142be37ce2ead43755a  511111519874          Baking   \n",
       "4  $oid:601ac142be37ce2ead43755e  511111319917  Candy & Sweets   \n",
       "\n",
       "       categoryCode                                          cpg  \\\n",
       "0            BAKING  $id:$oid:601ac114be37ce2ead437550|$ref:Cogs   \n",
       "1         BEVERAGES  $id:$oid:5332f5fbe4b03c9a25efd0ba|$ref:Cogs   \n",
       "2            BAKING  $id:$oid:601ac142be37ce2ead437559|$ref:Cogs   \n",
       "3            BAKING  $id:$oid:601ac142be37ce2ead437559|$ref:Cogs   \n",
       "4  CANDY_AND_SWEETS  $id:$oid:5332fa12e4b03c9a25efd1e7|$ref:Cogs   \n",
       "\n",
       "                        name  topBrand                      brandCode  \n",
       "0  test brand @1612366101024       NaN                            NaN  \n",
       "1                  Starbucks       NaN                      STARBUCKS  \n",
       "2  test brand @1612366146176       NaN  TEST BRANDCODE @1612366146176  \n",
       "3  test brand @1612366146051       NaN  TEST BRANDCODE @1612366146051  \n",
       "4  test brand @1612366146827       NaN  TEST BRANDCODE @1612366146827  "
      ]
     },
     "execution_count": 13,
     "metadata": {},
     "output_type": "execute_result"
    }
   ],
   "source": [
    "df_brands.head()"
   ]
  },
  {
   "cell_type": "code",
   "execution_count": 14,
   "metadata": {},
   "outputs": [
    {
     "data": {
      "text/plain": [
       "(1167, 8)"
      ]
     },
     "execution_count": 14,
     "metadata": {},
     "output_type": "execute_result"
    }
   ],
   "source": [
    "df_brands.shape"
   ]
  },
  {
   "cell_type": "code",
   "execution_count": 15,
   "metadata": {},
   "outputs": [
    {
     "data": {
      "text/plain": [
       "_id                0\n",
       "barcode            0\n",
       "category         155\n",
       "categoryCode     650\n",
       "cpg                0\n",
       "name               0\n",
       "topBrand        1136\n",
       "brandCode        269\n",
       "dtype: int64"
      ]
     },
     "execution_count": 15,
     "metadata": {},
     "output_type": "execute_result"
    }
   ],
   "source": [
    "##Checking for nulls\n",
    "df_brands.isnull().sum()"
   ]
  },
  {
   "cell_type": "code",
   "execution_count": 16,
   "metadata": {},
   "outputs": [
    {
     "name": "stdout",
     "output_type": "stream",
     "text": [
      "category : 13.281919451585262\n",
      "categoryCode : 55.69837189374465\n",
      "topBrand : 97.34361610968296\n",
      "brandCode : 23.050556983718938\n"
     ]
    }
   ],
   "source": [
    "##percentage of nulls\n",
    "null_percentage_brands = df_brands.isnull().mean()\n",
    "for key, value in null_percentage_brands.items():\n",
    "    if value > 0:\n",
    "        print(key, ':', value*100)"
   ]
  },
  {
   "cell_type": "code",
   "execution_count": 18,
   "metadata": {},
   "outputs": [
    {
     "data": {
      "text/plain": [
       "0"
      ]
     },
     "execution_count": 18,
     "metadata": {},
     "output_type": "execute_result"
    }
   ],
   "source": [
    "df_brands.duplicated().sum()"
   ]
  },
  {
   "cell_type": "markdown",
   "metadata": {},
   "source": [
    "Data quality issues in Brands:\n",
    "1. 4 columns have null values. Out of the 4 columnns, TopBrand contains 97% null values, and CategoryCode contains 55% null values. Since 97% of the TopBrand values are null, the field is not adding any significance to the analysis and could be dropped. "
   ]
  },
  {
   "cell_type": "code",
   "execution_count": 41,
   "metadata": {},
   "outputs": [
    {
     "data": {
      "text/html": [
       "<div>\n",
       "<style scoped>\n",
       "    .dataframe tbody tr th:only-of-type {\n",
       "        vertical-align: middle;\n",
       "    }\n",
       "\n",
       "    .dataframe tbody tr th {\n",
       "        vertical-align: top;\n",
       "    }\n",
       "\n",
       "    .dataframe thead th {\n",
       "        text-align: right;\n",
       "    }\n",
       "</style>\n",
       "<table border=\"1\" class=\"dataframe\">\n",
       "  <thead>\n",
       "    <tr style=\"text-align: right;\">\n",
       "      <th></th>\n",
       "      <th>_id</th>\n",
       "      <th>bonusPointsEarned</th>\n",
       "      <th>bonusPointsEarnedReason</th>\n",
       "      <th>createDate</th>\n",
       "      <th>dateScanned</th>\n",
       "      <th>finishedDate</th>\n",
       "      <th>modifyDate</th>\n",
       "      <th>pointsAwardedDate</th>\n",
       "      <th>pointsEarned</th>\n",
       "      <th>purchaseDate</th>\n",
       "      <th>purchasedItemCount</th>\n",
       "      <th>rewardsReceiptItemList</th>\n",
       "      <th>rewardsReceiptStatus</th>\n",
       "      <th>totalSpent</th>\n",
       "      <th>userId</th>\n",
       "    </tr>\n",
       "  </thead>\n",
       "  <tbody>\n",
       "    <tr>\n",
       "      <th>0</th>\n",
       "      <td>$oid:5ff1e1eb0a720f0523000575</td>\n",
       "      <td>500.0</td>\n",
       "      <td>Receipt number 2 completed, bonus point schedu...</td>\n",
       "      <td>$date:1609687531000</td>\n",
       "      <td>$date:1609687531000</td>\n",
       "      <td>$date:1609687531000</td>\n",
       "      <td>$date:1609687536000</td>\n",
       "      <td>$date:1609687531000</td>\n",
       "      <td>500.0</td>\n",
       "      <td>$date:1609632000000</td>\n",
       "      <td>5.0</td>\n",
       "      <td>barcode:4011|description:ITEM NOT FOUND|finalP...</td>\n",
       "      <td>FINISHED</td>\n",
       "      <td>26.0</td>\n",
       "      <td>5ff1e1eacfcf6c399c274ae6</td>\n",
       "    </tr>\n",
       "    <tr>\n",
       "      <th>1</th>\n",
       "      <td>$oid:5ff1e1bb0a720f052300056b</td>\n",
       "      <td>150.0</td>\n",
       "      <td>Receipt number 5 completed, bonus point schedu...</td>\n",
       "      <td>$date:1609687483000</td>\n",
       "      <td>$date:1609687483000</td>\n",
       "      <td>$date:1609687483000</td>\n",
       "      <td>$date:1609687488000</td>\n",
       "      <td>$date:1609687483000</td>\n",
       "      <td>150.0</td>\n",
       "      <td>$date:1609601083000</td>\n",
       "      <td>2.0</td>\n",
       "      <td>barcode:4011|description:ITEM NOT FOUND|finalP...</td>\n",
       "      <td>FINISHED</td>\n",
       "      <td>11.0</td>\n",
       "      <td>5ff1e194b6a9d73a3a9f1052</td>\n",
       "    </tr>\n",
       "    <tr>\n",
       "      <th>2</th>\n",
       "      <td>$oid:5ff1e1f10a720f052300057a</td>\n",
       "      <td>5.0</td>\n",
       "      <td>All-receipts receipt bonus</td>\n",
       "      <td>$date:1609687537000</td>\n",
       "      <td>$date:1609687537000</td>\n",
       "      <td>NaN</td>\n",
       "      <td>$date:1609687542000</td>\n",
       "      <td>NaN</td>\n",
       "      <td>5.0</td>\n",
       "      <td>$date:1609632000000</td>\n",
       "      <td>1.0</td>\n",
       "      <td>needsFetchReview:false|partnerItemId:1|prevent...</td>\n",
       "      <td>REJECTED</td>\n",
       "      <td>10.0</td>\n",
       "      <td>5ff1e1f1cfcf6c399c274b0b</td>\n",
       "    </tr>\n",
       "    <tr>\n",
       "      <th>3</th>\n",
       "      <td>$oid:5ff1e1ee0a7214ada100056f</td>\n",
       "      <td>5.0</td>\n",
       "      <td>All-receipts receipt bonus</td>\n",
       "      <td>$date:1609687534000</td>\n",
       "      <td>$date:1609687534000</td>\n",
       "      <td>$date:1609687534000</td>\n",
       "      <td>$date:1609687539000</td>\n",
       "      <td>$date:1609687534000</td>\n",
       "      <td>5.0</td>\n",
       "      <td>$date:1609632000000</td>\n",
       "      <td>4.0</td>\n",
       "      <td>barcode:4011|description:ITEM NOT FOUND|finalP...</td>\n",
       "      <td>FINISHED</td>\n",
       "      <td>28.0</td>\n",
       "      <td>5ff1e1eacfcf6c399c274ae6</td>\n",
       "    </tr>\n",
       "    <tr>\n",
       "      <th>4</th>\n",
       "      <td>$oid:5ff1e1d20a7214ada1000561</td>\n",
       "      <td>5.0</td>\n",
       "      <td>All-receipts receipt bonus</td>\n",
       "      <td>$date:1609687506000</td>\n",
       "      <td>$date:1609687506000</td>\n",
       "      <td>$date:1609687511000</td>\n",
       "      <td>$date:1609687511000</td>\n",
       "      <td>$date:1609687506000</td>\n",
       "      <td>5.0</td>\n",
       "      <td>$date:1609601106000</td>\n",
       "      <td>2.0</td>\n",
       "      <td>barcode:4011|description:ITEM NOT FOUND|finalP...</td>\n",
       "      <td>FINISHED</td>\n",
       "      <td>1.0</td>\n",
       "      <td>5ff1e194b6a9d73a3a9f1052</td>\n",
       "    </tr>\n",
       "  </tbody>\n",
       "</table>\n",
       "</div>"
      ],
      "text/plain": [
       "                             _id  bonusPointsEarned  \\\n",
       "0  $oid:5ff1e1eb0a720f0523000575              500.0   \n",
       "1  $oid:5ff1e1bb0a720f052300056b              150.0   \n",
       "2  $oid:5ff1e1f10a720f052300057a                5.0   \n",
       "3  $oid:5ff1e1ee0a7214ada100056f                5.0   \n",
       "4  $oid:5ff1e1d20a7214ada1000561                5.0   \n",
       "\n",
       "                             bonusPointsEarnedReason           createDate  \\\n",
       "0  Receipt number 2 completed, bonus point schedu...  $date:1609687531000   \n",
       "1  Receipt number 5 completed, bonus point schedu...  $date:1609687483000   \n",
       "2                         All-receipts receipt bonus  $date:1609687537000   \n",
       "3                         All-receipts receipt bonus  $date:1609687534000   \n",
       "4                         All-receipts receipt bonus  $date:1609687506000   \n",
       "\n",
       "           dateScanned         finishedDate           modifyDate  \\\n",
       "0  $date:1609687531000  $date:1609687531000  $date:1609687536000   \n",
       "1  $date:1609687483000  $date:1609687483000  $date:1609687488000   \n",
       "2  $date:1609687537000                  NaN  $date:1609687542000   \n",
       "3  $date:1609687534000  $date:1609687534000  $date:1609687539000   \n",
       "4  $date:1609687506000  $date:1609687511000  $date:1609687511000   \n",
       "\n",
       "     pointsAwardedDate  pointsEarned         purchaseDate  purchasedItemCount  \\\n",
       "0  $date:1609687531000         500.0  $date:1609632000000                 5.0   \n",
       "1  $date:1609687483000         150.0  $date:1609601083000                 2.0   \n",
       "2                  NaN           5.0  $date:1609632000000                 1.0   \n",
       "3  $date:1609687534000           5.0  $date:1609632000000                 4.0   \n",
       "4  $date:1609687506000           5.0  $date:1609601106000                 2.0   \n",
       "\n",
       "                              rewardsReceiptItemList rewardsReceiptStatus  \\\n",
       "0  barcode:4011|description:ITEM NOT FOUND|finalP...             FINISHED   \n",
       "1  barcode:4011|description:ITEM NOT FOUND|finalP...             FINISHED   \n",
       "2  needsFetchReview:false|partnerItemId:1|prevent...             REJECTED   \n",
       "3  barcode:4011|description:ITEM NOT FOUND|finalP...             FINISHED   \n",
       "4  barcode:4011|description:ITEM NOT FOUND|finalP...             FINISHED   \n",
       "\n",
       "   totalSpent                    userId  \n",
       "0        26.0  5ff1e1eacfcf6c399c274ae6  \n",
       "1        11.0  5ff1e194b6a9d73a3a9f1052  \n",
       "2        10.0  5ff1e1f1cfcf6c399c274b0b  \n",
       "3        28.0  5ff1e1eacfcf6c399c274ae6  \n",
       "4         1.0  5ff1e194b6a9d73a3a9f1052  "
      ]
     },
     "execution_count": 41,
     "metadata": {},
     "output_type": "execute_result"
    }
   ],
   "source": [
    "df_receipts.head()"
   ]
  },
  {
   "cell_type": "code",
   "execution_count": 43,
   "metadata": {},
   "outputs": [
    {
     "data": {
      "text/plain": [
       "(1119, 15)"
      ]
     },
     "execution_count": 43,
     "metadata": {},
     "output_type": "execute_result"
    }
   ],
   "source": [
    "df_receipts.shape"
   ]
  },
  {
   "cell_type": "code",
   "execution_count": 44,
   "metadata": {},
   "outputs": [
    {
     "data": {
      "text/plain": [
       "_id                          0\n",
       "bonusPointsEarned          575\n",
       "bonusPointsEarnedReason    575\n",
       "createDate                   0\n",
       "dateScanned                  0\n",
       "finishedDate               551\n",
       "modifyDate                   0\n",
       "pointsAwardedDate          582\n",
       "pointsEarned               510\n",
       "purchaseDate               448\n",
       "purchasedItemCount         484\n",
       "rewardsReceiptItemList     440\n",
       "rewardsReceiptStatus        17\n",
       "totalSpent                 452\n",
       "userId                      17\n",
       "dtype: int64"
      ]
     },
     "execution_count": 44,
     "metadata": {},
     "output_type": "execute_result"
    }
   ],
   "source": [
    "df_receipts.isnull().sum()"
   ]
  },
  {
   "cell_type": "code",
   "execution_count": 45,
   "metadata": {},
   "outputs": [
    {
     "name": "stdout",
     "output_type": "stream",
     "text": [
      "bonusPointsEarned : 51.385165326184094\n",
      "bonusPointsEarnedReason : 51.385165326184094\n",
      "finishedDate : 49.240393208221626\n",
      "pointsAwardedDate : 52.01072386058981\n",
      "pointsEarned : 45.57640750670242\n",
      "purchaseDate : 40.03574620196604\n",
      "purchasedItemCount : 43.25290437890974\n",
      "rewardsReceiptItemList : 39.32082216264522\n",
      "rewardsReceiptStatus : 1.519213583556747\n",
      "totalSpent : 40.39320822162645\n",
      "userId : 1.519213583556747\n"
     ]
    }
   ],
   "source": [
    "##percentage of nulls\n",
    "null_percentage_receipts = df_receipts.isnull().mean()\n",
    "for key, value in null_percentage_receipts.items():\n",
    "    if value > 0:\n",
    "        print(key, ':', value*100)"
   ]
  },
  {
   "cell_type": "code",
   "execution_count": 46,
   "metadata": {},
   "outputs": [
    {
     "data": {
      "text/plain": [
       "0"
      ]
     },
     "execution_count": 46,
     "metadata": {},
     "output_type": "execute_result"
    }
   ],
   "source": [
    "df_receipts.duplicated().sum()"
   ]
  },
  {
   "cell_type": "markdown",
   "metadata": {},
   "source": [
    "Data quality issues in Receipts\n",
    "1. PointsEarned has 45% null values. The points were earned for some of the receipts but was not captured.\n",
    "2. PurchasedItemCount: Determining whether customers who purchase several units of a product are eligible for bonuses  that necessitate the purchase of a specific number of brands will be complicated if there are a lot of missing values."
   ]
  }
 ],
 "metadata": {
  "kernelspec": {
   "display_name": "Python 3",
   "language": "python",
   "name": "python3"
  },
  "language_info": {
   "codemirror_mode": {
    "name": "ipython",
    "version": 3
   },
   "file_extension": ".py",
   "mimetype": "text/x-python",
   "name": "python",
   "nbconvert_exporter": "python",
   "pygments_lexer": "ipython3",
   "version": "3.7.1"
  }
 },
 "nbformat": 4,
 "nbformat_minor": 2
}
